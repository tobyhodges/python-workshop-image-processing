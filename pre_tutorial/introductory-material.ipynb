{
 "cells": [
  {
   "cell_type": "markdown",
   "metadata": {},
   "source": [
    "# Introductory Material"
   ]
  },
  {
   "cell_type": "markdown",
   "metadata": {},
   "source": [
    "## 1. Working with Jupyter"
   ]
  },
  {
   "cell_type": "markdown",
   "metadata": {},
   "source": [
    "- execute a cell with CTRL+ENTER or ALT+ENTER (to open a new cell underneath)\n",
    "- CTRL+Z for (per-cell) 'undo'\n",
    "- cells follow order of execution - *not* top-to-bottom\n",
    "- add [Markdown](https://daringfireball.net/projects/markdown/syntax) cells for formatted text"
   ]
  },
  {
   "cell_type": "code",
   "execution_count": null,
   "metadata": {},
   "outputs": [],
   "source": [
    "# system commands\n",
    "! ls"
   ]
  },
  {
   "cell_type": "markdown",
   "metadata": {},
   "source": [
    "Jupyter 'magic' commands:\n",
    "- `%alias` = create command/function alias\n",
    "- `%debug` = open interactive debugger\n",
    "- `%edit` = open editor & execute after close\n",
    "- `%env` = set environment variables\n",
    "- `%matplotlib inline` = embed plots/images in notebook\n",
    "- `%store` = save data for use in another notebook\n",
    "- `%time/%timeit` = time execution of function call\n"
   ]
  },
  {
   "cell_type": "markdown",
   "metadata": {},
   "source": [
    "Recommended reading:\n",
    "- [28 Jupyter Notebook Tips & Tricks](https://www.dataquest.io/blog/jupyter-notebook-tips-tricks-shortcuts/)\n",
    "- [`interact` docs](http://ipywidgets.readthedocs.io/en/latest/examples/Using%20Interact.html)"
   ]
  },
  {
   "cell_type": "markdown",
   "metadata": {},
   "source": [
    "## 2. Finding Help & Reading Documentation"
   ]
  },
  {
   "cell_type": "markdown",
   "metadata": {
    "collapsed": true
   },
   "source": [
    "In Python, you can view the documentation for any object with the syntax `help(obj)`. Invoke a help search prompt with `help()`."
   ]
  },
  {
   "cell_type": "markdown",
   "metadata": {},
   "source": [
    "To get a list of all of an objects attributes and methods, use `dir(obj)`. Calling `dir()` with no arguments provides a listing of everything defined in the current scope."
   ]
  },
  {
   "cell_type": "code",
   "execution_count": null,
   "metadata": {},
   "outputs": [],
   "source": [
    "a = 'a string'\n",
    "b = 10\n",
    "def c(a, b):\n",
    "    print(a*b)\n",
    "\n",
    "print(dir(a))\n",
    "print(dir())"
   ]
  },
  {
   "cell_type": "markdown",
   "metadata": {},
   "source": [
    "(__Note:__ In Jupyter, the environment includes a lot of additional, weird-looking variables e.g. `In` and `Out`.)"
   ]
  },
  {
   "cell_type": "markdown",
   "metadata": {},
   "source": [
    "In the Juptyter Notebook, another help option is available: type\n",
    "\n",
    "`range?`\n",
    "\n",
    "to get a pop-up window of documentation for the `range` function. You can scroll up and down this help page, and close it once you're done."
   ]
  },
  {
   "cell_type": "markdown",
   "metadata": {},
   "source": [
    "### Reading docstrings and help pages"
   ]
  },
  {
   "cell_type": "markdown",
   "metadata": {},
   "source": [
    "Let's dissect the help page for `numpy`s `arange` function."
   ]
  },
  {
   "cell_type": "markdown",
   "metadata": {},
   "source": [
    "```\n",
    "arange([start,] stop[, step,], dtype=None)\n",
    "\n",
    "Return evenly spaced values within a given interval.\n",
    "\n",
    "Values are generated within the half-open interval ``[start, stop)``\n",
    "(in other words, the interval including `start` but excluding `stop`).\n",
    "For integer arguments the function is equivalent to the Python built-in\n",
    "`range <http://docs.python.org/lib/built-in-funcs.html>`_ function,\n",
    "but returns an ndarray rather than a list.\n",
    "\n",
    "When using a non-integer step, such as 0.1, the results will often not\n",
    "be consistent.  It is better to use ``linspace`` for these cases.\n",
    "\n",
    "Parameters\n",
    "----------\n",
    "start : number, optional\n",
    "    Start of interval.  The interval includes this value.  The default\n",
    "    start value is 0.\n",
    "stop : number\n",
    "    End of interval.  The interval does not include this value, except\n",
    "    in some cases where `step` is not an integer and floating point\n",
    "    round-off affects the length of `out`.\n",
    "step : number, optional\n",
    "    Spacing between values.  For any output `out`, this is the distance\n",
    "    between two adjacent values, ``out[i+1] - out[i]``.  The default\n",
    "    step size is 1.  If `step` is specified, `start` must also be given.\n",
    "dtype : dtype\n",
    "    The type of the output array.  If `dtype` is not given, infer the data\n",
    "    type from the other input arguments.\n",
    "\n",
    "Returns\n",
    "-------\n",
    "arange : ndarray\n",
    "    Array of evenly spaced values.\n",
    "\n",
    "    For floating point arguments, the length of the result is\n",
    "    ``ceil((stop - start)/step)``.  Because of floating point overflow,\n",
    "    this rule may result in the last element of `out` being greater\n",
    "    than `stop`.\n",
    "\n",
    "See Also\n",
    "--------\n",
    "linspace : Evenly spaced numbers with careful handling of endpoints.\n",
    "ogrid: Arrays of evenly spaced numbers in N-dimensions.\n",
    "mgrid: Grid-shaped arrays of evenly spaced numbers in N-dimensions.\n",
    "\n",
    "Examples\n",
    "--------\n",
    "[snip]\n",
    "```"
   ]
  },
  {
   "cell_type": "markdown",
   "metadata": {},
   "source": [
    "First, the usage statement:\n",
    "\n",
    "```\n",
    "arange([start,] stop[, step,], dtype=None)\n",
    "```\n",
    "\n",
    "This tells the user how to correctly invoke the function. Optional arguments are given inside `[]`s, and default values of arguments are displayed as `argument=default_value`. So here we can see that `numpy.arange` has: one required argument - `stop`; two optional arguments - `start` and `step`; and one argument - `dtype` - with a default value of `None`.\n",
    "\n",
    "Beneath the usage statement, we are given more information about what the function does, followed by some details about the type and meaning of each of the arguments. These are given in the form\n",
    "\n",
    "```\n",
    "argument: object_type, mode\n",
    "    description\n",
    "```\n",
    "\n",
    "Then, we are told what the function returns. This is important because it helps us know what we can do with the data that is returned by the function.\n",
    "\n",
    "Lastly, we get some hints about related functions, and then an extensive collection of usage examples, which I have left out above."
   ]
  },
  {
   "cell_type": "markdown",
   "metadata": {},
   "source": [
    "This is a fine example of documentation for a function and in fact all of the documentation for `numpy` is of extremely high quality. I'm sorry to say that you can't rely on the documentation always being this detailed and helpful! But, in general, one of the strengths of Python as a language is that it typically has helpful documentation as well as an active community of users and developers who are willing to provide advice and help e.g. through StackOverflow and other online resources."
   ]
  },
  {
   "cell_type": "markdown",
   "metadata": {},
   "source": [
    "## 3. Reading Data From Files"
   ]
  },
  {
   "cell_type": "code",
   "execution_count": null,
   "metadata": {},
   "outputs": [],
   "source": [
    "handle = open('example_data.txt', 'r')\n",
    "for line in handle.readlines():\n",
    "    print line.strip()\n",
    "handle.close()"
   ]
  },
  {
   "cell_type": "code",
   "execution_count": null,
   "metadata": {},
   "outputs": [],
   "source": [
    "with open('example_data.txt', 'r') as handle:\n",
    "    for line in handle.readlines():\n",
    "        print line.strip()\n",
    "# no closing necessary when using 'with' - Python takes care of this for you"
   ]
  },
  {
   "cell_type": "markdown",
   "metadata": {},
   "source": [
    "## 4. A Brief Introduction to `matplotlib`"
   ]
  },
  {
   "cell_type": "markdown",
   "metadata": {},
   "source": [
    "(This material largely taken from the [`matplotlib` documentation/examples](https://matplotlib.org/index.html) and [this excellent blogpost](http://pbpython.com/effective-matplotlib.html).)"
   ]
  },
  {
   "cell_type": "code",
   "execution_count": null,
   "metadata": {},
   "outputs": [],
   "source": [
    "% matplotlib inline\n",
    "# first, a quick review of import statement syntax\n",
    "from matplotlib import pyplot as plt\n",
    "# or import matplotlib.pyplot as plt\n",
    "import numpy as np"
   ]
  },
  {
   "cell_type": "markdown",
   "metadata": {},
   "source": [
    "The default `matplotlib` style is not to everyone's taste. It has been improved in the recent update to v2.0, but you may also choose another style easily:"
   ]
  },
  {
   "cell_type": "code",
   "execution_count": null,
   "metadata": {},
   "outputs": [],
   "source": [
    "plt.style.available"
   ]
  },
  {
   "cell_type": "code",
   "execution_count": null,
   "metadata": {
    "collapsed": true
   },
   "outputs": [],
   "source": [
    "plt.style.use('seaborn-notebook')"
   ]
  },
  {
   "cell_type": "markdown",
   "metadata": {},
   "source": [
    "If you want to easily re-use your own settings, you can write your own stylesheet, add it to the list above, and load it in every time. See [here](https://matplotlib.org/users/customizing.html) for detailed instructions."
   ]
  },
  {
   "cell_type": "markdown",
   "metadata": {},
   "source": [
    "`matplotlib` gives you two fundamental objects to work with - the `Figure` and `Axes`. The `Figure` object is the top-level container for an entire figure. It can contain a number of `Axes` objects, each of which is a single plot. By approaching it this way, `matplotlib` makes it very easy to organise multiple plots into a single figure."
   ]
  },
  {
   "cell_type": "code",
   "execution_count": null,
   "metadata": {},
   "outputs": [],
   "source": [
    "fig, axes = plt.subplots(nrows=1, ncols=2, figsize=(9, 4))"
   ]
  },
  {
   "cell_type": "markdown",
   "metadata": {},
   "source": [
    "Now let's plot something..."
   ]
  },
  {
   "cell_type": "code",
   "execution_count": null,
   "metadata": {},
   "outputs": [],
   "source": [
    "# generate some random test data\n",
    "all_data = [np.random.normal(0, std, 100) for std in range(6, 10)]\n",
    "\n",
    "# plot violin plot on the first set of axes\n",
    "axes[0].violinplot(all_data,\n",
    "                   showmeans=False,\n",
    "                   showmedians=True)\n",
    "axes[0].set_title('violin plot')\n",
    "\n",
    "# and a box plot on the second set\n",
    "axes[1].boxplot(all_data)\n",
    "axes[1].set_title('box plot')\n",
    "\n",
    "# show the plot in its current form\n",
    "fig"
   ]
  },
  {
   "cell_type": "markdown",
   "metadata": {},
   "source": [
    "That's a good start. Let's add some horizontal gridlines to make the distributions easier to compare, and some labels to the x-axes."
   ]
  },
  {
   "cell_type": "code",
   "execution_count": null,
   "metadata": {},
   "outputs": [],
   "source": [
    "# adding horizontal grid lines\n",
    "for ax in axes:\n",
    "    ax.yaxis.grid(True)\n",
    "    ax.set_xticks([y+1 for y in range(len(all_data))])\n",
    "    ax.set_xlabel('xlabel')\n",
    "    ax.set_ylabel('ylabel')\n",
    "\n",
    "# add x-tick labels\n",
    "plt.setp(axes, xticks=[y+1 for y in range(len(all_data))],\n",
    "         xticklabels=['x1', 'x2', 'x3', 'x4'])\n",
    "fig"
   ]
  },
  {
   "cell_type": "markdown",
   "metadata": {},
   "source": [
    "This is a really simple example, which barely scratches the surface of what you can do with `matplotlib`. The online documentation is extremely comprehensive, and I encourage you to check it out. In addition, if you are doing a lot of data handling as well as plotting, you should check out the [`pandas`](http://pandas.pydata.org) library, for data analysis in Python. As well as providing shortcuts to create common plot types from datasets in a few lines (raw text file -> boxplot in three lines!), `pandas` allows sophisticated data filtering, summarising, and processing techniques."
   ]
  },
  {
   "cell_type": "markdown",
   "metadata": {},
   "source": [
    "### Subplots"
   ]
  },
  {
   "cell_type": "markdown",
   "metadata": {},
   "source": [
    "In the main tutorial of this course, you may want to plot display images next to one another. This is fairly straightforward with `matplotlib`, as you can see in the example above. Create a number of subplots in a figure with"
   ]
  },
  {
   "cell_type": "code",
   "execution_count": null,
   "metadata": {},
   "outputs": [],
   "source": [
    "figure, array_of_subplots = plt.subplots(nrows=2, ncols=2) # create four subplots, in a 2x2 grid\n",
    "\n",
    "print(array_of_subplots.shape) # array_of_subplots is a 2x2 array\n",
    "\n",
    "# note: somewhat unhelpfully, if you create only one row of subplots, the array will be one-dimensional, \n",
    "# meaning that you only use array_of_subplots[0], array_of_subplots[1], etc to access each set of axes\n",
    "\n",
    "# generate some random data\n",
    "x1, x2, x3, x4 = [np.random.randint(10, size=10) for i in range(4)]\n",
    "y1, y2, y3, y4 = [np.random.randint(10, size=10) for i in range(4)]\n",
    "\n",
    "# plot onto the first subplot (top-left)\n",
    "array_of_subplots[0][0].bar(list(range(10)), y1, width=0.9)\n",
    "\n",
    "# plot onto the second subplot (top-right)\n",
    "array_of_subplots[0][1].scatter(x2, y2)\n",
    "\n",
    "# and the third and fourth (second row)\n",
    "array_of_subplots[1][0].pie(x3)\n",
    "\n",
    "for i in range(len(x4)):\n",
    "    array_of_subplots[1][1].text(float(x4[i])/10, float(y4[i])/10, 'abcdefghij'[i])\n",
    "\n",
    "# render the figure\n",
    "figure.show()"
   ]
  }
 ],
 "metadata": {
  "kernelspec": {
   "display_name": "Python 2",
   "language": "python",
   "name": "python2"
  },
  "language_info": {
   "codemirror_mode": {
    "name": "ipython",
    "version": 2
   },
   "file_extension": ".py",
   "mimetype": "text/x-python",
   "name": "python",
   "nbconvert_exporter": "python",
   "pygments_lexer": "ipython2",
   "version": "2.7.11"
  }
 },
 "nbformat": 4,
 "nbformat_minor": 1
}
