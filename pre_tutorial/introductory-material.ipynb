{
 "cells": [
  {
   "cell_type": "markdown",
   "metadata": {},
   "source": [
    "# Introductory Material"
   ]
  },
  {
   "cell_type": "markdown",
   "metadata": {},
   "source": [
    "## 1. Working with Jupyter"
   ]
  },
  {
   "cell_type": "markdown",
   "metadata": {},
   "source": [
    "- execute a cell with CTRL+ENTER or ALT+ENTER (to open a new cell underneath)\n",
    "- CTRL+Z for (per-cell) 'undo'\n",
    "- cells follow order of execution - *not* top-to-bottom\n",
    "- add [Markdown](https://daringfireball.net/projects/markdown/syntax) cells for formatted text"
   ]
  },
  {
   "cell_type": "code",
   "execution_count": null,
   "metadata": {
    "collapsed": true
   },
   "outputs": [],
   "source": [
    "# system commands\n",
    "! ls"
   ]
  },
  {
   "cell_type": "markdown",
   "metadata": {},
   "source": [
    "Jupyter 'magic' commands:\n",
    "- `%alias` = create command/function alias\n",
    "- `%debug` = open interactive debugger\n",
    "- `%edit` = open editor & execute after close\n",
    "- `%env` = set environment variables\n",
    "- `%matplotlib inline` = embed plots/images in notebook\n",
    "- `%store` = save data for use in another notebook\n",
    "- `%time/%timeit` = time execution of function call\n"
   ]
  },
  {
   "cell_type": "markdown",
   "metadata": {},
   "source": [
    "Recommended reading:\n",
    "- [28 Jupyter Notebook Tips & Tricks](https://www.dataquest.io/blog/jupyter-notebook-tips-tricks-shortcuts/)\n",
    "- [`interact` docs](http://ipywidgets.readthedocs.io/en/latest/examples/Using%20Interact.html)"
   ]
  },
  {
   "cell_type": "markdown",
   "metadata": {},
   "source": [
    "## 2. Reading Documentation & Finding Help"
   ]
  },
  {
   "cell_type": "code",
   "execution_count": null,
   "metadata": {
    "collapsed": true
   },
   "outputs": [],
   "source": []
  },
  {
   "cell_type": "markdown",
   "metadata": {},
   "source": [
    "## 3. Reading Data From Files"
   ]
  },
  {
   "cell_type": "code",
   "execution_count": null,
   "metadata": {},
   "outputs": [],
   "source": [
    "handle = open('example_data.txt', 'r')\n",
    "for line in handle.readlines():\n",
    "    print line.strip()"
   ]
  },
  {
   "cell_type": "code",
   "execution_count": null,
   "metadata": {},
   "outputs": [],
   "source": [
    "with open('example_data.txt', 'r') as hanlde:\n",
    "    for line in handle.readlines():\n",
    "        print line.strip()"
   ]
  },
  {
   "cell_type": "markdown",
   "metadata": {},
   "source": [
    "## 4. A Brief Introduction to `matplotlib`"
   ]
  },
  {
   "cell_type": "markdown",
   "metadata": {},
   "source": [
    "(This material largely taken from the [`matplotlib` documentation/examples](https://matplotlib.org/index.html) and [this excellent blogpost](http://pbpython.com/effective-matplotlib.html).)"
   ]
  },
  {
   "cell_type": "code",
   "execution_count": null,
   "metadata": {
    "collapsed": true
   },
   "outputs": [],
   "source": [
    "% matplotlib inline\n",
    "# first, a quick review of import statement syntax\n",
    "from matplotlib import pyplot as plt\n",
    "# or import matplotlib.pyplot as plt\n",
    "import numpy as np"
   ]
  },
  {
   "cell_type": "markdown",
   "metadata": {},
   "source": [
    "The default `matplotlib` style is not to everyone's taste. It has been improved in the recent update to v2.0, but you may also choose another style easily:"
   ]
  },
  {
   "cell_type": "code",
   "execution_count": null,
   "metadata": {
    "collapsed": true
   },
   "outputs": [],
   "source": [
    "plt.style.available"
   ]
  },
  {
   "cell_type": "code",
   "execution_count": null,
   "metadata": {
    "collapsed": true
   },
   "outputs": [],
   "source": [
    "plt.style.use('seaborn-notebook')"
   ]
  },
  {
   "cell_type": "markdown",
   "metadata": {},
   "source": [
    "If you want to easily re-use your own settings, you can write your own stylesheet, add it to the list above, and load it in every time. See [here](https://matplotlib.org/users/customizing.html) for detailed instructions."
   ]
  },
  {
   "cell_type": "markdown",
   "metadata": {},
   "source": [
    "`matplotlib` gives you two fundamental objects to work with - the `Figure` and `Axes`. The `Figure` object is the top-level container for an entire figure. It can contain a number of `Axes` objects, each of which is a single plot. By approaching it this way, `matplotlib` makes it very easy to organise multiple plots into a single figure."
   ]
  },
  {
   "cell_type": "code",
   "execution_count": null,
   "metadata": {
    "collapsed": true
   },
   "outputs": [],
   "source": [
    "fig, axes = plt.subplots(nrows=1, ncols=2, figsize=(9, 4))"
   ]
  },
  {
   "cell_type": "markdown",
   "metadata": {},
   "source": [
    "Now let's plot something..."
   ]
  },
  {
   "cell_type": "code",
   "execution_count": null,
   "metadata": {
    "collapsed": true
   },
   "outputs": [],
   "source": [
    "# generate some random test data\n",
    "all_data = [np.random.normal(0, std, 100) for std in range(6, 10)]\n",
    "\n",
    "# plot violin plot on the first set of axes\n",
    "axes[0].violinplot(all_data,\n",
    "                   showmeans=False,\n",
    "                   showmedians=True)\n",
    "axes[0].set_title('violin plot')\n",
    "\n",
    "# and a box plot on the second set\n",
    "axes[1].boxplot(all_data)\n",
    "axes[1].set_title('box plot')\n",
    "\n",
    "# show the plot in its current form\n",
    "fig"
   ]
  },
  {
   "cell_type": "markdown",
   "metadata": {},
   "source": [
    "That's a good start. Let's add some horizontal gridlines to make the distributions easier to compare, and some labels to the x-axes."
   ]
  },
  {
   "cell_type": "code",
   "execution_count": null,
   "metadata": {
    "collapsed": true
   },
   "outputs": [],
   "source": [
    "# adding horizontal grid lines\n",
    "for ax in axes:\n",
    "    ax.yaxis.grid(True)\n",
    "    ax.set_xticks([y+1 for y in range(len(all_data))])\n",
    "    ax.set_xlabel('xlabel')\n",
    "    ax.set_ylabel('ylabel')\n",
    "\n",
    "# add x-tick labels\n",
    "plt.setp(axes, xticks=[y+1 for y in range(len(all_data))],\n",
    "         xticklabels=['x1', 'x2', 'x3', 'x4'])\n",
    "fig"
   ]
  },
  {
   "cell_type": "markdown",
   "metadata": {},
   "source": [
    "This is a really simple example, which barely scratches the surface of what you can do with `matplotlib`. The online documentation is extremely comprehensive, and I encourage you to check it out. In addition, if you are doing a lot of data handling as well as plotting, you should check out the [`pandas`](http://pandas.pydata.org) library, for data analysis in Python. As well as providing shortcuts to create common plot types from datasets in a few lines (raw text file -> boxplot in three lines!), `pandas` allows sophisticated data filtering, summarising, and processing techniques."
   ]
  }
 ],
 "metadata": {
  "kernelspec": {
   "display_name": "Python 2",
   "language": "python",
   "name": "python2"
  },
  "language_info": {
   "codemirror_mode": {
    "name": "ipython",
    "version": 2
   },
   "file_extension": ".py",
   "mimetype": "text/x-python",
   "name": "python",
   "nbconvert_exporter": "python",
   "pygments_lexer": "ipython2",
   "version": "2.7.11"
  }
 },
 "nbformat": 4,
 "nbformat_minor": 1
}
