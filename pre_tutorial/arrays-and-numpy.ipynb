{
 "cells": [
  {
   "cell_type": "markdown",
   "metadata": {},
   "source": [
    "# Arrays and NumPy"
   ]
  },
  {
   "cell_type": "markdown",
   "metadata": {},
   "source": [
    "NumPy is a python library that can be used to manipulate arrays in similar ways to how MATLAB does it. It is used to facilitate the dealing with tools of linear algebra - vectors and matrices (here referred to as **arrays**)."
   ]
  },
  {
   "cell_type": "markdown",
   "metadata": {},
   "source": [
    "## 1. What are arrays?\n",
    "\n",
    "An array is a multi dimensional grid of data. Tables in Microsoft Excel can be thought of as arrays with dimensions \n",
    "`r × c × p` corresponding to `r` rows `c` columns and `p` pages. In numpy it is similar, but you can have multi-dimensional arrays, with more than three dimensions. The figures below illustrates arrays of different dimensions."
   ]
  },
  {
   "cell_type": "markdown",
   "metadata": {},
   "source": [
    "<img src=\"figA.jpeg\",width=600>"
   ]
  },
  {
   "cell_type": "markdown",
   "metadata": {},
   "source": [
    "There are many good reasons why one might want to use arrays. For example, for images and stoichiometric information of a collection of reactions are naturally stored as arrays (see the image below)."
   ]
  },
  {
   "cell_type": "markdown",
   "metadata": {},
   "source": [
    "An image as an array, with each entry being a pixel value: <img src=\"figC.png\">"
   ]
  },
  {
   "cell_type": "markdown",
   "metadata": {},
   "source": [
    "Stoichiometric matrix with each entry describing how a reactant is affected by a reaction: <img src=\"figD.png\">"
   ]
  },
  {
   "cell_type": "markdown",
   "metadata": {},
   "source": [
    "## 2. Create arrays using NumPy\n",
    "\n",
    "The first thing to do is to import the library:"
   ]
  },
  {
   "cell_type": "code",
   "execution_count": 69,
   "metadata": {
    "collapsed": true
   },
   "outputs": [],
   "source": [
    "import numpy as np "
   ]
  },
  {
   "cell_type": "markdown",
   "metadata": {},
   "source": [
    "In NumPy, arrays are lists, except that all the entries have to be of the same _data type_ (int8, int32, float, boolean, etc). \n",
    "\n",
    "Creating NumPy arrays is done using the same syntax as for a regular Python list andn in addition, using the NumPy function `array` as illustrated below. This function converts a list into a one-dimensional array, a list of lists in to a two-dimensional array, a list of list that is a list of lists into a three-dimensional array, etc. The class of such objects is `numpy.ndarray`:"
   ]
  },
  {
   "cell_type": "code",
   "execution_count": 70,
   "metadata": {
    "collapsed": false
   },
   "outputs": [
    {
     "name": "stdout",
     "output_type": "stream",
     "text": [
      "[0, 1, 2, 3, 4, 5, 6, 7, 8, 9, 10, 11, 12, 13, 14, 15, 16, 17, 18, 19]\n",
      "[[ 0  1  2  3  4]\n",
      " [ 5  6  7  8  9]\n",
      " [10 11 12 13 14]\n",
      " [15 16 17 18 19]]\n",
      "row:\n",
      "[1 2 3 4 5 6 7 8 9] \n",
      "has 1 dimension(s) ; is an object of class <type 'numpy.ndarray'> ; with data type int64 \n",
      "\n",
      "col:\n",
      "[[ 5]\n",
      " [ 6]\n",
      " [ 3]\n",
      " [-1]\n",
      " [ 6]\n",
      " [ 9]\n",
      " [ 2]\n",
      " [ 5]\n",
      " [ 5]] \n",
      "has 2 dimension(s) ; is an object of class <type 'numpy.ndarray'> ; with data type int64 \n",
      "\n",
      "mat:\n",
      "[[ 1  2  3  4 -1 -2 -3 -4]\n",
      " [ 5  6  7  8 -5 -6 -7 -8]] \n",
      "has 2 dimension(s) ; is an object of class <type 'numpy.ndarray'> ; with data type int64 \n",
      "\n"
     ]
    }
   ],
   "source": [
    "# defining arrays\n",
    "row = np.array([1, 2, 3, 4, 5, 6, 7, 8, 9]) # a row vector, also called a 1x9 array\n",
    "col = np.array([[5],  # a column vector, also called a 9x1 array\n",
    "                [6], \n",
    "                [3], \n",
    "                [-1], \n",
    "                [6], \n",
    "                [9], \n",
    "                [2],\n",
    "                [5],\n",
    "                [5]])\n",
    "mat = np.array([[1, 2, 3, 4, -1, -2, -3, -4], [5, 6, 7, 8, -5, -6, -7, -8]]) # a 2x8 matrix or array\n",
    "\n",
    "# display the results\n",
    "print 'row:\\n', row, '\\nhas', len(row.shape), 'dimension(s) ;', 'is an object of class', type(row), '; with data type', row.dtype, '\\n'\n",
    "print 'col:\\n', col, '\\nhas', len(col.shape), 'dimension(s) ;', 'is an object of class', type(col), '; with data type', col.dtype, '\\n'\n",
    "print 'mat:\\n', mat, '\\nhas', len(mat.shape), 'dimension(s) ;', 'is an object of class', type(mat), '; with data type', mat.dtype, '\\n'"
   ]
  },
  {
   "cell_type": "markdown",
   "metadata": {},
   "source": [
    "Note the use of the funcion `shape`, to show the number of entires in each dimension, the function `type` to get the _variable type_ (i.e. a numpy array) and `dtype` for the _data type_ (int64, float, boolean, etc)."
   ]
  },
  {
   "cell_type": "code",
   "execution_count": 71,
   "metadata": {
    "collapsed": false
   },
   "outputs": [
    {
     "data": {
      "text/plain": [
       "dtype('int64')"
      ]
     },
     "execution_count": 71,
     "metadata": {},
     "output_type": "execute_result"
    }
   ],
   "source": [
    "print col.shape\n",
    "print col.dtype"
   ]
  },
  {
   "cell_type": "markdown",
   "metadata": {},
   "source": [
    "In more practical situations, the elements of an array are originally unknown, but its size is known. Hence, NumPy offers several functions to create arrays. For example, the function `zeros` creates an array full of zeros, the function `ones` creates an array full of ones, and the function `empty` creates an array whose initial content is random and depends on the state of the memory. For these you need to specify the dimensions sizes. Here are some examples of how to use such functions:"
   ]
  },
  {
   "cell_type": "code",
   "execution_count": 72,
   "metadata": {
    "collapsed": false
   },
   "outputs": [
    {
     "name": "stdout",
     "output_type": "stream",
     "text": [
      "simple1: [1 2 3 4 5 6 7 8 9]\n",
      "simple2: [1 3 5 7 9]\n",
      "simple3: [10  9  8  7  6  5  4  3  2]\n",
      "simple4: [ 0.   0.3  0.6  0.9  1.2  1.5  1.8]\n",
      "simple5: [ 0.    0.25  0.5   0.75  1.    1.25  1.5   1.75  2.  ]\n",
      "zeros:\n",
      "[[ 0.  0.  0.  0.]\n",
      " [ 0.  0.  0.  0.]\n",
      " [ 0.  0.  0.  0.]]\n",
      "ones:\n",
      "[[[ 1.  1.  1.  1.]\n",
      "  [ 1.  1.  1.  1.]\n",
      "  [ 1.  1.  1.  1.]]\n",
      "\n",
      " [[ 1.  1.  1.  1.]\n",
      "  [ 1.  1.  1.  1.]\n",
      "  [ 1.  1.  1.  1.]]]\n",
      "empty:\n",
      "[[  0.00000000e+000   4.94065646e-324   9.88131292e-324]\n",
      " [  1.48219694e-323   1.97626258e-323   2.47032823e-323]]\n"
     ]
    }
   ],
   "source": [
    "# Equally spaced arrays and sequences of numbers\n",
    "simple1 = np.arange(1,10,1) # from 1 to 9, increasing with a step of 1\n",
    "simple2 = np.arange(1,10,2) # from 1 to 9, increasing with a step of 2\n",
    "simple3 = np.arange(10,1,-1) # from 10 to 2, decreasing with a step of 1\n",
    "simple4 = np.arange( 0, 2, 0.3 ) # it accepts float arguments\n",
    "simple5 = np.linspace( 0, 2, 9 )  # 9 numbers from 0 to 2\n",
    "\n",
    "# Arrays with zeros, ones and empty (random) entries - here you need to specify the sizes of the dimensions (also known as axis in Python)\n",
    "zeros = np.zeros((3,4))  # 3 rows, 4 columns\n",
    "ones = np.ones((2,3,4)) # 2 of 3 rows and 4 columns\n",
    "empty = np.empty((2,3))  # 2 rows, 3 columns\n",
    "\n",
    "# display    \n",
    "print \"simple1:\", simple1\n",
    "print \"simple2:\", simple2\n",
    "print \"simple3:\", simple3\n",
    "print \"simple4:\", simple4\n",
    "print \"simple5:\", simple5\n",
    "print \"zeros:\\n\", zeros\n",
    "print \"ones:\\n\", ones\n",
    "print \"empty:\\n\", empty"
   ]
  },
  {
   "cell_type": "code",
   "execution_count": 73,
   "metadata": {
    "collapsed": false
   },
   "outputs": [
    {
     "data": {
      "text/plain": [
       "array([[[ 0.,  0.,  0.,  0.],\n",
       "        [ 0.,  0.,  0.,  0.],\n",
       "        [ 0.,  0.,  0.,  0.]],\n",
       "\n",
       "       [[ 0.,  0.,  0.,  0.],\n",
       "        [ 0.,  0.,  0.,  0.],\n",
       "        [ 0.,  0.,  0.,  0.]]])"
      ]
     },
     "execution_count": 73,
     "metadata": {},
     "output_type": "execute_result"
    }
   ],
   "source": [
    "# these are equivalent\n",
    "print np.zeros(ones.shape)\n",
    "print np.zeros_like(ones)"
   ]
  },
  {
   "cell_type": "markdown",
   "metadata": {},
   "source": [
    "## 3. Manipulate arrays"
   ]
  },
  {
   "cell_type": "markdown",
   "metadata": {},
   "source": [
    "### Arithmetic with Arrays: Addition, multiplication, substraction, division, powers.\n",
    "\n",
    "Unlike in MATLAB, arithmetic operators on arrays apply *element-wise*. When an arithmetic operation is used on arrays, a new array is created and filled with the result."
   ]
  },
  {
   "cell_type": "code",
   "execution_count": 74,
   "metadata": {
    "collapsed": false
   },
   "outputs": [
    {
     "name": "stdout",
     "output_type": "stream",
     "text": [
      "[ 1  4  9 16 25 36 49 64 81]\n"
     ]
    }
   ],
   "source": [
    "a = np.array([1, 2, 3, 4, 5, 6, 7, 8, 9])\n",
    "b = np.array([[5], [6], [3], [-1], [6], [9], [2], [5], [5]])\n",
    "\n",
    "aa = a*a\n",
    "print aa"
   ]
  },
  {
   "cell_type": "code",
   "execution_count": 76,
   "metadata": {
    "collapsed": false
   },
   "outputs": [
    {
     "name": "stdout",
     "output_type": "stream",
     "text": [
      "a =  [1 2 3 4 5 6 7 8 9]\n",
      "element-element multiplication a*a: [ 1  4  9 16 25 36 49 64 81] (see figure)\n",
      "array multiplication a*b: [205] (see figure)\n",
      "raise each element of a to the power of 2: [ 3  0  1  6  7  4  5 10 11]\n",
      "divide each element of a by 2: [0 1 1 2 2 3 3 4 4]\n",
      "\n",
      " Check by hand each of these; Look at the examples in the image below.\n"
     ]
    }
   ],
   "source": [
    "print 'a = ', a\n",
    "print 'element-element multiplication a*a:', aa, '(see figure)' # element-wise array multiplication \n",
    "print 'array multiplication a*b:', np.dot(a,b), '(see figure)' # array multiplication (see figure)\n",
    "# NOTE: Python version 3.5+ has a built-in matrix multiplication operator: a @ b\n",
    "print 'raise each element of a to the power of 2:', a^2  # raise each element of a to the power of 2\n",
    "print 'divide each element of a by 2:', a/2 # divide each element of a by 2\n",
    "\n",
    "print '\\n Check by hand each of these; Look at the examples in the image below.'"
   ]
  },
  {
   "cell_type": "markdown",
   "metadata": {},
   "source": [
    "Element-element array multiplication: <img src=\"figF.png\">\n",
    "\n",
    "Array multiplication: <img src=\"figE.png\">"
   ]
  },
  {
   "cell_type": "markdown",
   "metadata": {},
   "source": [
    "### Array methods\n",
    "\n",
    "Arrays can be manipulated in other ways, apart from doing arithmetic on them. They can be reshaped, you can obtain information about them, etc. To do that, NumPy offers specific functions such as `len`, `shape` and `resize`. A quick reminder of the basics of using functions in Python:"
   ]
  },
  {
   "cell_type": "markdown",
   "metadata": {},
   "source": [
    "Call methods with the syntax `variable.method()`, and functions with the syntax `namespace.function()`. Provide arguments to methods in round brackets:"
   ]
  },
  {
   "cell_type": "code",
   "execution_count": 77,
   "metadata": {
    "collapsed": false
   },
   "outputs": [
    {
     "name": "stdout",
     "output_type": "stream",
     "text": [
      "19\n"
     ]
    }
   ],
   "source": [
    "A = np.arange(20)\n",
    "print np.max(A)"
   ]
  },
  {
   "cell_type": "markdown",
   "metadata": {},
   "source": [
    "Store output by assigning it to a variable:"
   ]
  },
  {
   "cell_type": "code",
   "execution_count": 78,
   "metadata": {
    "collapsed": false
   },
   "outputs": [
    {
     "name": "stdout",
     "output_type": "stream",
     "text": [
      "19\n"
     ]
    }
   ],
   "source": [
    "maxA = np.max(A)\n",
    "print maxA"
   ]
  },
  {
   "cell_type": "markdown",
   "metadata": {},
   "source": [
    "Connect multiple functions/methods together. Calls are evaluated from left to right, with each method operating on the output of the previous call:"
   ]
  },
  {
   "cell_type": "code",
   "execution_count": 96,
   "metadata": {
    "collapsed": false
   },
   "outputs": [
    {
     "name": "stdout",
     "output_type": "stream",
     "text": [
      " [[ 0  1  2  3]\n",
      " [ 4  5  6  7]\n",
      " [ 8  9 10 11]]\n"
     ]
    }
   ],
   "source": [
    "b = np.arange(12).reshape(3,4)\n",
    "# equivalent to:\n",
    "# b = np.arange(12)\n",
    "# b = b.reshape(3,4)\n",
    "print b"
   ]
  },
  {
   "cell_type": "markdown",
   "metadata": {},
   "source": [
    "Remember that you can (and we enourage you to) look up the usage of these (and other) methods and function in [the numpy documentation](https://docs.scipy.org/doc/numpy/reference/index.html)! "
   ]
  },
  {
   "cell_type": "markdown",
   "metadata": {},
   "source": [
    "## 4. Index and slice arrays\n",
    "\n",
    "### Slicing\n",
    "\n",
    "Entries in arrays can be accessed by indicating the name of the array and the entry position in each dimension inside square brackets:"
   ]
  },
  {
   "cell_type": "code",
   "execution_count": 98,
   "metadata": {
    "collapsed": false
   },
   "outputs": [
    {
     "name": "stdout",
     "output_type": "stream",
     "text": [
      "e =  [  0   1   8  27  64 125 216 343 512 729] \n",
      "\n",
      "Third entry in e: 8 \n",
      "\n",
      "Entries 2 to 5 in e: [ 8 27 64] \n",
      "\n",
      "b = \n",
      "[[ 0  1  2  3]\n",
      " [ 4  5  6  7]\n",
      " [ 8  9 10 11]]\n",
      "Entry in row 1, column 1 in b:  5 \n",
      "\n",
      "Middle-bottom minor array of b: \n",
      "[[ 5  6]\n",
      " [ 9 10]]\n"
     ]
    }
   ],
   "source": [
    "e = np.arange(10)**3  # define new array\n",
    "print 'e = ', e, '\\n'\n",
    "print 'Third entry in e:', e[2], '\\n' # access the third entry from left to right -> indexing\n",
    "print 'Entries 2 to 5 in e:', e[2:5], '\\n' # access entries 3 to 5 (the second, third, and fourth entries) -> slicing\n",
    "\n",
    "# recall b is defined above\n",
    "print 'b = \\n', b\n",
    "print 'Entry in row 1, column 1 in b: ', b[1,1], '\\n' # access entry in position 1,1 -> indexing\n",
    "print 'Middle-bottom minor array of b: \\n', b[1:3,1:-1] # access entries in the second and third rows and columns -> slicing"
   ]
  },
  {
   "cell_type": "markdown",
   "metadata": {},
   "source": [
    "### Logical indexing:\n",
    "\n",
    "You can use the logical operators `>, >=, <, <=, ==, |, &` (greater than, greater than or equal to, less than, less than or equal to, equal, or, and) to test entries in arrays, as follows:"
   ]
  },
  {
   "cell_type": "code",
   "execution_count": 81,
   "metadata": {
    "collapsed": false
   },
   "outputs": [
    {
     "name": "stdout",
     "output_type": "stream",
     "text": [
      "[1 2 3 4 5 6 7 8 9]\n",
      "<type 'numpy.ndarray'>\n",
      "[1 2 3]\n",
      "[ True  True  True False False  True  True]\n",
      "[1 2 3 1 2]\n"
     ]
    }
   ],
   "source": [
    "print a\n",
    "value_filter = a < 3.5 # gives the entry values of the elements of a that are less than 0.5.\n",
    "print type(value_filter)\n",
    "print a[a < 3.5]"
   ]
  },
  {
   "cell_type": "markdown",
   "metadata": {},
   "source": [
    "This operation generates a new array of the same size as that being tested, but with entries either `False` or `True` depending on how they evaluate."
   ]
  },
  {
   "cell_type": "markdown",
   "metadata": {},
   "source": [
    "## 5. Numeric Types"
   ]
  },
  {
   "cell_type": "markdown",
   "metadata": {},
   "source": [
    "Python provides some native object types - `int` and `float` - for storing numeric data. But `numpy` provides its own types, offering much more control over the properties of the data you're working with. For example, `numpy.int32` and `numpy.int64`, and `numpy.float32` and `numpy.float64` offer 32-bit, and 64-bit implementations of integer and float values respectively. By specifying which of these types you would like to store your data in, you can control the precision with which your data is represented, and the amount of memory that that data will consume.\n",
    "\n",
    "_(Note: it's at this point that we should mention one of the other, more functional motivations for using `numpy` when working with numeric data. The array implementations in `numpy` are [in many cases much faster to operate on than the standard Python `list` objects, and require less memory to store](http://stackoverflow.com/questions/993984/why-numpy-instead-of-python-lists). One of the reasons for this is that they are designed to contain data of a single type - defined in the `dtype` attribute of the `numpy.array` object._\n",
    "\n",
    "An important point to consider when working with integer data (as you often will be when handling image files) is the use of _signed_ vs _unsigned_ integers. These are implemented as `numpy.int*` and `numpy.uint*` objects respectively, and these is a subtle but important difference in the range of values that they can store. `numpy.int8` and `numpy.uint8` are 8-bit integers, allowing for 256 different values. The signed `int8` objects can hold values between -128 and 127, while the unsigned `uint8` objects can range between 0 and 255 - that is, they can't hold negative values. __Be careful with these different data types!__ Weird things can start to happen with your data if you handle these types inappropriately. For example, look at what happens when we try to subtract from an array of unsigned `uint8` integers:"
   ]
  },
  {
   "cell_type": "code",
   "execution_count": 87,
   "metadata": {
    "collapsed": false
   },
   "outputs": [
    {
     "name": "stdout",
     "output_type": "stream",
     "text": [
      "[ 1  3  5  7  9 11]\n",
      "[253 255   1   3   5   7]\n"
     ]
    }
   ],
   "source": [
    "signed = np.array([1, 3, 5, 7, 9, 11], dtype=np.uint8)\n",
    "print signed\n",
    "subtracted = signed - 4\n",
    "print subtracted"
   ]
  },
  {
   "cell_type": "markdown",
   "metadata": {},
   "source": [
    "You might have expected Python to raise an error when attempting to create a value less than 0 (the lowest value that can be represented in an unsigned integer), but instead the values are 'cycled', with -1 becoming 255, -2 becoming 254 etc etc. The same will happen with signed integer values, and the behaviour extends to 16-, 32-, and 64-bit integers as well (though I do at least get a warning from numpy when I 'cycle' an unsigned 64-bit integer)."
   ]
  },
  {
   "cell_type": "code",
   "execution_count": 88,
   "metadata": {
    "collapsed": false
   },
   "outputs": [
    {
     "name": "stdout",
     "output_type": "stream",
     "text": [
      "[-126 -101    7 -125   11 -127]\n",
      "9223372036854775807\n"
     ]
    },
    {
     "name": "stderr",
     "output_type": "stream",
     "text": [
      "/g/teachinglab/sources/anaconda2/lib/python2.7/site-packages/ipykernel/__main__.py:5: RuntimeWarning: overflow encountered in long_scalars\n"
     ]
    }
   ],
   "source": [
    "unsigned = np.array([-128, -103, 5, -127, 9, 127], dtype=np.int8)\n",
    "print unsigned + 2\n",
    "\n",
    "signed64 = np.int64(-9223372036854775808)\n",
    "signed64 -= 1\n",
    "print signed64"
   ]
  },
  {
   "cell_type": "markdown",
   "metadata": {},
   "source": [
    "A complete list of `numpy` numeric types is available [here](https://docs.scipy.org/doc/numpy/user/basics.types.html)."
   ]
  },
  {
   "cell_type": "markdown",
   "metadata": {},
   "source": [
    "## 6. Help and Documentation\n",
    "\n",
    "You have already used many of the tools NumPy has on offer. You might want to read more about how those functions are used, and you should! \n",
    "To do so, you can type in the terminal:\n",
    "\n",
    "`help(functionname)`\n",
    "\n",
    "You can also check the documentation and search the name of the function there."
   ]
  },
  {
   "cell_type": "markdown",
   "metadata": {},
   "source": [
    "## 7. Exercises"
   ]
  },
  {
   "cell_type": "markdown",
   "metadata": {},
   "source": [
    "__1.__ Create a `3 × 3` random integer array `A` and two `3 × 1` integer vectors `a` and `b`. "
   ]
  },
  {
   "cell_type": "code",
   "execution_count": null,
   "metadata": {
    "collapsed": false
   },
   "outputs": [],
   "source": []
  },
  {
   "cell_type": "markdown",
   "metadata": {},
   "source": [
    "__2.__ Multiply `a` by the scalar 5 and name this new vector `c`."
   ]
  },
  {
   "cell_type": "code",
   "execution_count": null,
   "metadata": {
    "collapsed": true
   },
   "outputs": [],
   "source": []
  },
  {
   "cell_type": "markdown",
   "metadata": {},
   "source": [
    "__3.__ Compute the element-wise product of `a` and `b`. What do you get?"
   ]
  },
  {
   "cell_type": "code",
   "execution_count": null,
   "metadata": {
    "collapsed": true
   },
   "outputs": [],
   "source": []
  },
  {
   "cell_type": "markdown",
   "metadata": {},
   "source": [
    "__4.__ What do you get for `A[1,2]`, `A[:3]`, `A[0:2, 0:2]`?"
   ]
  },
  {
   "cell_type": "code",
   "execution_count": null,
   "metadata": {
    "collapsed": true
   },
   "outputs": [],
   "source": []
  },
  {
   "cell_type": "markdown",
   "metadata": {},
   "source": [
    "__5.__ Replace the second column of `A` with `b` (Hint: use indexing)."
   ]
  },
  {
   "cell_type": "code",
   "execution_count": null,
   "metadata": {
    "collapsed": false
   },
   "outputs": [],
   "source": []
  },
  {
   "cell_type": "markdown",
   "metadata": {},
   "source": [
    "__6.__ Extract the following from `A`:\n",
    "1. row 2, column 1 \n",
    "2. row 3, all columns\n",
    "3. rows 2,3 columns 2,3"
   ]
  },
  {
   "cell_type": "code",
   "execution_count": null,
   "metadata": {
    "collapsed": true
   },
   "outputs": [],
   "source": []
  },
  {
   "cell_type": "markdown",
   "metadata": {},
   "source": [
    "__7.__ Compute the (mathematical) array product of `A` and `b`. What do you get? Can you do the element-wise product? Why/why not?"
   ]
  },
  {
   "cell_type": "code",
   "execution_count": null,
   "metadata": {
    "collapsed": true
   },
   "outputs": [],
   "source": []
  },
  {
   "cell_type": "markdown",
   "metadata": {},
   "source": [
    "__8.__ Concatenate `b` with itself 3 times to get a `3 × 3` array `B`. Use functions `vstack` and `hstack`."
   ]
  },
  {
   "cell_type": "code",
   "execution_count": null,
   "metadata": {
    "collapsed": true
   },
   "outputs": [],
   "source": []
  },
  {
   "cell_type": "markdown",
   "metadata": {},
   "source": [
    "__9.__ Multiply `A` and `B` element-wise and assign the result to a new variable `C`."
   ]
  },
  {
   "cell_type": "code",
   "execution_count": null,
   "metadata": {
    "collapsed": true
   },
   "outputs": [],
   "source": []
  },
  {
   "cell_type": "markdown",
   "metadata": {},
   "source": [
    "__10.__ Use the function `shape` to save the dimensions of `C` in `rC` and `cC`. Remember that you can check the documentation if you get stuck."
   ]
  },
  {
   "cell_type": "code",
   "execution_count": null,
   "metadata": {
    "collapsed": true
   },
   "outputs": [],
   "source": []
  },
  {
   "cell_type": "markdown",
   "metadata": {},
   "source": [
    "__11.__ Use help to get information about `len` - how does it differ from `shape`?"
   ]
  },
  {
   "cell_type": "code",
   "execution_count": null,
   "metadata": {
    "collapsed": true
   },
   "outputs": [],
   "source": []
  },
  {
   "cell_type": "markdown",
   "metadata": {},
   "source": [
    "__12.__ Delete the first row of `C`."
   ]
  },
  {
   "cell_type": "code",
   "execution_count": null,
   "metadata": {
    "collapsed": true
   },
   "outputs": [],
   "source": []
  },
  {
   "cell_type": "markdown",
   "metadata": {},
   "source": [
    "__13.__ What are the dimensions of this new array?"
   ]
  },
  {
   "cell_type": "code",
   "execution_count": null,
   "metadata": {
    "collapsed": true
   },
   "outputs": [],
   "source": []
  },
  {
   "cell_type": "markdown",
   "metadata": {},
   "source": [
    "__14.__ Find the elements of `C` that are less than `5`."
   ]
  },
  {
   "cell_type": "code",
   "execution_count": null,
   "metadata": {
    "collapsed": true
   },
   "outputs": [],
   "source": []
  },
  {
   "cell_type": "markdown",
   "metadata": {},
   "source": [
    "__15.__ Create a `24 × 3` matrix `Q`."
   ]
  },
  {
   "cell_type": "code",
   "execution_count": null,
   "metadata": {
    "collapsed": true
   },
   "outputs": [],
   "source": []
  },
  {
   "cell_type": "markdown",
   "metadata": {},
   "source": [
    "__16.__ Calculate minimum, maximum, mean and standard deviation of each column of `Q`. Use help for find out about the functions `np.min`, `np.max`, `np.mean` and `np.std`."
   ]
  },
  {
   "cell_type": "code",
   "execution_count": null,
   "metadata": {
    "collapsed": true
   },
   "outputs": [],
   "source": []
  },
  {
   "cell_type": "markdown",
   "metadata": {},
   "source": [
    "... don't look at the solutions until you're done! ...  \n",
    ".  \n",
    ".  \n",
    ".  \n",
    ".  \n",
    ".  \n",
    ".  \n",
    ".  \n",
    "... or _really_ stuck! ...  \n",
    ".  \n",
    ".  \n",
    ".  \n",
    ".  \n",
    ".  \n",
    ".  \n",
    "... did you try checking the [numpy documentation](https://docs.scipy.org/doc/numpy/reference/index.html) first? ...  \n",
    ".  \n",
    ".  \n",
    ".  \n",
    "\n",
    "## Solutions"
   ]
  },
  {
   "cell_type": "code",
   "execution_count": 100,
   "metadata": {
    "collapsed": false
   },
   "outputs": [
    {
     "name": "stdout",
     "output_type": "stream",
     "text": [
      "\n",
      " 1.\n",
      "A = \n",
      "[[ 5  4 39]\n",
      " [63 29 56]\n",
      " [ 0 70 99]]\n",
      "a = \n",
      "[[31]\n",
      " [11]\n",
      " [56]]\n",
      "b = \n",
      "[[59]\n",
      " [66]\n",
      " [81]]\n",
      "\n",
      " 2.\n",
      "c = \n",
      "[[ 93]\n",
      " [ 33]\n",
      " [168]]\n",
      "\n",
      " 3.\n",
      "element-element product: [[1829]\n",
      " [ 726]\n",
      " [4536]]\n",
      "\n",
      " 4.\n",
      "Entry 1,2: \n",
      "56\n",
      "[[ 5  4 39]\n",
      " [63 29 56]\n",
      " [ 0 70 99]]\n",
      "Second column: \n",
      "[ 4 29 70]\n",
      "Top left minor array: \n",
      "[[ 5  4]\n",
      " [63 29]]\n",
      "\n",
      " 5.\n",
      "[[ 5  4 39]\n",
      " [63 29 56]\n",
      " [ 0 70 99]]\n",
      "\n",
      " 6.\n",
      "A = \n",
      "[[ 5 59 39]\n",
      " [63 66 56]\n",
      " [ 0 81 99]]\n",
      "row 2, column 1:\n",
      "63\n",
      "row 3, all columns:\n",
      "[ 0 81 99]\n",
      "rows 2,3 columns 2,3:\n",
      "[[66]]\n",
      "\n",
      " 7.\n",
      "[[ 7348]\n",
      " [12609]\n",
      " [13365]]\n",
      "\n",
      " 8.\n",
      "[[59 59 59]\n",
      " [66 66 66]\n",
      " [81 81 81]]\n",
      "\n",
      " 9.\n",
      "[[ 295 3481 2301]\n",
      " [4158 4356 3696]\n",
      " [   0 6561 8019]]\n",
      "\n",
      " 10.\n",
      "Cr =  3\n",
      "Cc =  3\n",
      "\n",
      " 11.\n",
      "Help on built-in function len in module __builtin__:\n",
      "\n",
      "len(...)\n",
      "    len(object) -> integer\n",
      "    \n",
      "    Return the number of items of a sequence or collection.\n",
      "\n",
      "\n",
      " 12.\n",
      "[[4158 4356 3696]\n",
      " [   0 6561 8019]]\n",
      "\n",
      " 13.\n",
      "(2, 3)\n",
      "\n",
      " 14.\n",
      "[0]\n",
      "\n",
      " 15.\n",
      "[[80 11 99]\n",
      " [22  5 83]\n",
      " [46 21 51]\n",
      " [35 77  3]\n",
      " [60 19 36]\n",
      " [34 38 81]\n",
      " [99 15 43]\n",
      " [42 12 52]\n",
      " [77 76 61]\n",
      " [70 45 62]\n",
      " [55 21 29]\n",
      " [21 82 83]\n",
      " [26 14 58]\n",
      " [40 58 36]\n",
      " [93 55 15]\n",
      " [43 10 75]\n",
      " [63 62 22]\n",
      " [62  5 97]\n",
      " [48 67 87]\n",
      " [58 42 26]\n",
      " [91 74  7]\n",
      " [70 38 84]\n",
      " [88 24 86]\n",
      " [94 86 40]]\n",
      "\n",
      " 16.\n",
      "max: [99 86 99]\n",
      "min: [21  5  3]\n",
      "mean: [ 59.04166667  39.875       54.83333333]\n",
      "std: [ 23.44759968  26.76644744  28.57251982]\n"
     ]
    }
   ],
   "source": [
    "# 1.\n",
    "print '\\n 1.'\n",
    "A = np.random.randint(0,high=100,size=(3,3))\n",
    "a = np.random.randint(0,high=100,size=(3,1))\n",
    "b = np.random.randint(0,high=100,size=(3,1))\n",
    "print 'A = \\n', A\n",
    "print 'a = \\n', a\n",
    "print 'b = \\n', b\n",
    "\n",
    "# 2.\n",
    "print '\\n 2.'\n",
    "c = 3*a\n",
    "print 'c = \\n', c\n",
    "\n",
    "# 3.\n",
    "print '\\n 3.'\n",
    "print 'element-element product:', a*b\n",
    "\n",
    "# 4. \n",
    "print '\\n 4.'\n",
    "print 'Entry 1,2: \\n', A[1,2]\n",
    "print A\n",
    "print 'Second column: \\n', A[:3,1]\n",
    "print 'Top left minor array: \\n', A[0:2, 0:2]\n",
    "\n",
    "# 5. \n",
    "print '\\n 5.'\n",
    "print A\n",
    "A[:,1] = b[:,0]\n",
    "\n",
    "# 6. \n",
    "print '\\n 6.'\n",
    "print 'A = \\n', A\n",
    "print 'row 2, column 1:\\n', A[1,0]\n",
    "print 'row 3, all columns:\\n', A[2,:]\n",
    "print 'rows 2,3 columns 2,3:\\n', A[1:2,1:2]\n",
    "\n",
    "# 7. \n",
    "print '\\n 7.'\n",
    "print np.dot(A,b)\n",
    "\n",
    "# 8. \n",
    "print '\\n 8.'\n",
    "B = np.hstack([b,b,b])\n",
    "print B\n",
    "\n",
    "# 9. \n",
    "print '\\n 9.'\n",
    "C = A*B\n",
    "print C\n",
    "\n",
    "# 10. \n",
    "print '\\n 10.'\n",
    "Cr, Cc = np.shape(C)\n",
    "print 'Cr = ', Cr\n",
    "print 'Cc = ', Cc\n",
    "\n",
    "# 11. \n",
    "print '\\n 11.'\n",
    "help(len)\n",
    "\n",
    "# 12. \n",
    "print '\\n 12.'\n",
    "C = C[1:]\n",
    "print C\n",
    "\n",
    "# 13. \n",
    "print '\\n 13.'\n",
    "print C.shape\n",
    "\n",
    "# 14. \n",
    "print '\\n 14.'\n",
    "print C[C < 5]\n",
    "\n",
    "# 15. \n",
    "print '\\n 15.'\n",
    "Q = np.random.randint(0,high=100,size=(24,3))\n",
    "print Q\n",
    "\n",
    "# 16. \n",
    "print '\\n 16.'\n",
    "Qmax = np.max(Q, axis=0)\n",
    "Qmin = np.min(Q, axis=0)\n",
    "Qmean = np.mean(Q, axis=0)\n",
    "Qstd = np.std(Q, axis=0)\n",
    "print 'max:', Qmax\n",
    "print 'min:', Qmin\n",
    "print 'mean:', Qmean\n",
    "print 'std:', Qstd"
   ]
  },
  {
   "cell_type": "markdown",
   "metadata": {
    "collapsed": true
   },
   "source": [
    "#### References\n",
    "\n",
    "https://docs.scipy.org/doc/numpy-dev/user/quickstart.html"
   ]
  }
 ],
 "metadata": {
  "kernelspec": {
   "display_name": "Python 2",
   "language": "python",
   "name": "python2"
  },
  "language_info": {
   "codemirror_mode": {
    "name": "ipython",
    "version": 2
   },
   "file_extension": ".py",
   "mimetype": "text/x-python",
   "name": "python",
   "nbconvert_exporter": "python",
   "pygments_lexer": "ipython2",
   "version": "2.7.11"
  }
 },
 "nbformat": 4,
 "nbformat_minor": 1
}
